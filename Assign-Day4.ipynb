{
 "cells": [
  {
   "cell_type": "markdown",
   "metadata": {},
   "source": [
    "## Question 1:Find the first armstrong number"
   ]
  },
  {
   "cell_type": "code",
   "execution_count": 2,
   "metadata": {},
   "outputs": [
    {
     "name": "stdout",
     "output_type": "stream",
     "text": [
      "The first Armstrong number: 1741725\n"
     ]
    }
   ],
   "source": [
    "x=1042000\n",
    "y=702648265\n",
    "for n in range(x,y+1):\n",
    "    num=n\n",
    "    result=0\n",
    "    order=len(str(n))\n",
    "    while num>0:\n",
    "        rem=num%10\n",
    "        result+=rem**order\n",
    "        num=num//10\n",
    "    if n==result:\n",
    "        print(\"The first Armstrong number:\",n)\n",
    "        break\n",
    "    else:\n",
    "        continue\n"
   ]
  },
  {
   "cell_type": "markdown",
   "metadata": {},
   "source": [
    "### END"
   ]
  }
 ],
 "metadata": {
  "kernelspec": {
   "display_name": "Python 3",
   "language": "python",
   "name": "python3"
  },
  "language_info": {
   "codemirror_mode": {
    "name": "ipython",
    "version": 3
   },
   "file_extension": ".py",
   "mimetype": "text/x-python",
   "name": "python",
   "nbconvert_exporter": "python",
   "pygments_lexer": "ipython3",
   "version": "3.8.3"
  }
 },
 "nbformat": 4,
 "nbformat_minor": 4
}

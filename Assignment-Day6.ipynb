{
 "cells": [
  {
   "cell_type": "markdown",
   "metadata": {},
   "source": [
    "# Question 1"
   ]
  },
  {
   "cell_type": "code",
   "execution_count": 48,
   "metadata": {},
   "outputs": [],
   "source": [
    "class bank:\n",
    "    def __init__(self,oname,balance):\n",
    "        self.oname=oname\n",
    "        self.balance=balance\n",
    "    \n",
    "    def getDetails(self):\n",
    "        print(\"Owner Name: \",self.oname)\n",
    "        print(\"Balance: \",self.balance)\n",
    "    \n",
    "    def deposit(self,amt):\n",
    "        self.balance=self.balance+amt\n",
    "                \n",
    "    def withdraw(self,amt):\n",
    "        if(amt>self.balance):\n",
    "            print(\"Insufficient Balance.\")\n",
    "        else:\n",
    "            self.balance=self.balance-amt\n",
    "      "
   ]
  },
  {
   "cell_type": "code",
   "execution_count": 49,
   "metadata": {},
   "outputs": [],
   "source": [
    "account1= bank('Sneha',20000)"
   ]
  },
  {
   "cell_type": "code",
   "execution_count": 50,
   "metadata": {},
   "outputs": [
    {
     "name": "stdout",
     "output_type": "stream",
     "text": [
      "Owner Name:  Sneha\n",
      "Balance:  20000\n"
     ]
    }
   ],
   "source": [
    "account1.getDetails()"
   ]
  },
  {
   "cell_type": "code",
   "execution_count": 51,
   "metadata": {},
   "outputs": [],
   "source": [
    "account1.withdraw(15000)"
   ]
  },
  {
   "cell_type": "code",
   "execution_count": 52,
   "metadata": {},
   "outputs": [
    {
     "name": "stdout",
     "output_type": "stream",
     "text": [
      "Owner Name:  Sneha\n",
      "Balance:  5000\n"
     ]
    }
   ],
   "source": [
    "account1.getDetails()"
   ]
  },
  {
   "cell_type": "code",
   "execution_count": 53,
   "metadata": {},
   "outputs": [],
   "source": [
    "account1.deposit(500)"
   ]
  },
  {
   "cell_type": "code",
   "execution_count": 54,
   "metadata": {},
   "outputs": [
    {
     "name": "stdout",
     "output_type": "stream",
     "text": [
      "Owner Name:  Sneha\n",
      "Balance:  5500\n"
     ]
    }
   ],
   "source": [
    "account1.getDetails()"
   ]
  },
  {
   "cell_type": "code",
   "execution_count": 55,
   "metadata": {},
   "outputs": [
    {
     "name": "stdout",
     "output_type": "stream",
     "text": [
      "Insufficient Balance.\n"
     ]
    }
   ],
   "source": [
    "account1.withdraw(6000)"
   ]
  },
  {
   "cell_type": "code",
   "execution_count": 56,
   "metadata": {},
   "outputs": [
    {
     "name": "stdout",
     "output_type": "stream",
     "text": [
      "Owner Name:  Sneha\n",
      "Balance:  5500\n"
     ]
    }
   ],
   "source": [
    "account1.getDetails()"
   ]
  },
  {
   "cell_type": "markdown",
   "metadata": {},
   "source": [
    "# Question 2"
   ]
  },
  {
   "cell_type": "code",
   "execution_count": 57,
   "metadata": {},
   "outputs": [],
   "source": [
    "import math\n",
    "class cone:\n",
    "    def __init__(self,radius,height):\n",
    "        self.radius=radius\n",
    "        self.height=height\n",
    "    \n",
    "    def getVolume(self):\n",
    "        vol=math.pi*self.radius**2*(self.height/3)\n",
    "        print(\"Volume of cone:\",vol)\n",
    "        \n",
    "    def getSurfacearea(self):\n",
    "        base=math.pi*self.radius**2\n",
    "        side=math.pi*self.radius*math.sqrt(self.radius**2+self.height**2)\n",
    "        s_area=base+side\n",
    "        print(\"Surface area of cone:\",s_area)\n",
    "        "
   ]
  },
  {
   "cell_type": "code",
   "execution_count": 58,
   "metadata": {},
   "outputs": [],
   "source": [
    "c1 = cone(2,3)"
   ]
  },
  {
   "cell_type": "code",
   "execution_count": 59,
   "metadata": {},
   "outputs": [
    {
     "name": "stdout",
     "output_type": "stream",
     "text": [
      "Volume of cone: 12.566370614359172\n"
     ]
    }
   ],
   "source": [
    "c1.getVolume()"
   ]
  },
  {
   "cell_type": "code",
   "execution_count": 60,
   "metadata": {},
   "outputs": [
    {
     "name": "stdout",
     "output_type": "stream",
     "text": [
      "Surface area of cone: 35.22071741263713\n"
     ]
    }
   ],
   "source": [
    "c1.getSurfacearea()"
   ]
  },
  {
   "cell_type": "markdown",
   "metadata": {},
   "source": [
    "### END"
   ]
  }
 ],
 "metadata": {
  "kernelspec": {
   "display_name": "Python 3",
   "language": "python",
   "name": "python3"
  },
  "language_info": {
   "codemirror_mode": {
    "name": "ipython",
    "version": 3
   },
   "file_extension": ".py",
   "mimetype": "text/x-python",
   "name": "python",
   "nbconvert_exporter": "python",
   "pygments_lexer": "ipython3",
   "version": "3.8.3"
  }
 },
 "nbformat": 4,
 "nbformat_minor": 4
}
